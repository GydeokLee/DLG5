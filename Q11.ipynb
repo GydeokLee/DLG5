{
  "nbformat": 4,
  "nbformat_minor": 0,
  "metadata": {
    "colab": {
      "provenance": [],
      "authorship_tag": "ABX9TyOTcgkYxgtmFR8Yiyv13UUr",
      "include_colab_link": true
    },
    "kernelspec": {
      "name": "python3",
      "display_name": "Python 3"
    },
    "language_info": {
      "name": "python"
    }
  },
  "cells": [
    {
      "cell_type": "markdown",
      "metadata": {
        "id": "view-in-github",
        "colab_type": "text"
      },
      "source": [
        "<a href=\"https://colab.research.google.com/github/GydeokLee/DLG5/blob/main/Q11.ipynb\" target=\"_parent\"><img src=\"https://colab.research.google.com/assets/colab-badge.svg\" alt=\"Open In Colab\"/></a>"
      ]
    },
    {
      "cell_type": "markdown",
      "source": [
        "Q11을 여기다 업로드"
      ],
      "metadata": {
        "id": "QlZAv_mGf8RS"
      }
    },
    {
      "cell_type": "code",
      "source": [],
      "metadata": {
        "id": "MVXYmHYTgIun"
      },
      "execution_count": null,
      "outputs": []
    }
  ]
}