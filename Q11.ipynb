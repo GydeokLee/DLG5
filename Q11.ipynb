{
  "nbformat": 4,
  "nbformat_minor": 0,
  "metadata": {
    "colab": {
      "provenance": [],
      "authorship_tag": "ABX9TyMYAcCicVfKd0gO94z3SOXx",
      "include_colab_link": true
    },
    "kernelspec": {
      "name": "python3",
      "display_name": "Python 3"
    },
    "language_info": {
      "name": "python"
    }
  },
  "cells": [
    {
      "cell_type": "markdown",
      "metadata": {
        "id": "view-in-github",
        "colab_type": "text"
      },
      "source": [
        "<a href=\"https://colab.research.google.com/github/GydeokLee/DLG5/blob/main/Q11.ipynb\" target=\"_parent\"><img src=\"https://colab.research.google.com/assets/colab-badge.svg\" alt=\"Open In Colab\"/></a>"
      ]
    },
    {
      "cell_type": "markdown",
      "source": [
        "Q11. Create a variable called my_list and set it to [1, 2, 3, 4, 5]. Use the len() function to find the length of the list. Then, print the length"
      ],
      "metadata": {
        "id": "6NFUZw2HgkAg"
      }
    },
    {
      "cell_type": "code",
      "source": [],
      "metadata": {
        "id": "sNFybHRrgrTZ"
      },
      "execution_count": null,
      "outputs": []
    }
  ]
}