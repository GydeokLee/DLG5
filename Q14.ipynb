{
  "nbformat": 4,
  "nbformat_minor": 0,
  "metadata": {
    "colab": {
      "provenance": [],
=======
      "authorship_tag": "ABX9TyPIgIvGXeEP7Ut/cC2GsXh7",
      "include_colab_link": true
    },
    "kernelspec": {
      "name": "python3",
      "display_name": "Python 3"
    },
    "language_info": {
      "name": "python"
    }
  },
  "cells": [
    {
      "cell_type": "markdown",
      "metadata": {
        "id": "view-in-github",
        "colab_type": "text"
      },
      "source": [

        "<a href=\"https://colab.research.google.com/github/Son324/DLG5/blob/main/Q14.ipynb\" target=\"_parent\"><img src=\"https://colab.research.google.com/assets/colab-badge.svg\" alt=\"Open In Colab\"/></a>"
=======
        "<a href=\"https://colab.research.google.com/github/GydeokLee/DLG5/blob/main/Q14.ipynb\" target=\"_parent\"><img src=\"https://colab.research.google.com/assets/colab-badge.svg\" alt=\"Open In Colab\"/></a>"

      ]
    },
    {
      "cell_type": "markdown",
      "source": [
        "Q14. [1] Create a list of your favorite colors called color_list with at least three colors. [2] Use a for loop to iterate through the list and print each color."
      ],
      "metadata": {
        "id": "dQAZVRy0hlrz"
      }
    },
    {
      "cell_type": "code",
      "execution_count": 3,
      "metadata": {
        "id": "zEv0HjbJhiu4",
        "outputId": "ceabf7e4-4756-4285-9cc9-5304a768a492",
        "colab": {
          "base_uri": "https://localhost:8080/"
        }
      },
      "outputs": [
        {
          "output_type": "stream",
          "name": "stdout",
          "text": [
            "Red\n",
            "Yellow\n",
            "Green\n"
          ]
        }
      ],
      "source": [
        "color_list=[\"Red\", \"Yellow\", \"Green\"]\n",
        "\n",
        "for i in color_list:\n",
        "  print(i)"
      ]
=======
      "execution_count": null,
      "metadata": {
        "id": "zEv0HjbJhiu4"
      },
      "outputs": [],
      "source": []
    }
  ]
}